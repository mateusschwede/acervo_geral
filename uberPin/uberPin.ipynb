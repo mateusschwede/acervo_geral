{
  "nbformat": 4,
  "nbformat_minor": 0,
  "metadata": {
    "colab": {
      "provenance": [],
      "collapsed_sections": [
        "TblgBNuV-D9F",
        "YqPzOOzO-cU-",
        "s0xHYtVz_VIe",
        "AE702cJQAv9M",
        "C50nHG8eClVW"
      ]
    },
    "kernelspec": {
      "name": "python3",
      "display_name": "Python 3"
    },
    "language_info": {
      "name": "python"
    }
  },
  "cells": [
    {
      "cell_type": "markdown",
      "source": [
        "# Importar bibliotecas:"
      ],
      "metadata": {
        "id": "TblgBNuV-D9F"
      }
    },
    {
      "cell_type": "code",
      "execution_count": 1,
      "metadata": {
        "colab": {
          "base_uri": "https://localhost:8080/",
          "height": 151
        },
        "id": "BlJ1kwU89ma_",
        "outputId": "7a9cd204-3253-4d4e-b1ca-dfb0ab07a314"
      },
      "outputs": [
        {
          "output_type": "stream",
          "name": "stdout",
          "text": [
            "Requirement already satisfied: scikit-learn in /usr/local/lib/python3.11/dist-packages (1.6.1)\n",
            "Requirement already satisfied: numpy>=1.19.5 in /usr/local/lib/python3.11/dist-packages (from scikit-learn) (2.0.2)\n",
            "Requirement already satisfied: scipy>=1.6.0 in /usr/local/lib/python3.11/dist-packages (from scikit-learn) (1.15.2)\n",
            "Requirement already satisfied: joblib>=1.2.0 in /usr/local/lib/python3.11/dist-packages (from scikit-learn) (1.5.0)\n",
            "Requirement already satisfied: threadpoolctl>=3.1.0 in /usr/local/lib/python3.11/dist-packages (from scikit-learn) (3.6.0)\n"
          ]
        },
        {
          "output_type": "display_data",
          "data": {
            "text/plain": [
              "<IPython.core.display.HTML object>"
            ],
            "text/html": [
              "\n",
              "            <div>\n",
              "                <ins><a href=\"https://ydata.ai/register\">Upgrade to ydata-sdk</a></ins>\n",
              "                <p>\n",
              "                    Improve your data and profiling with ydata-sdk, featuring data quality scoring, redundancy detection, outlier identification, text validation, and synthetic data generation.\n",
              "                </p>\n",
              "            </div>\n",
              "            "
            ]
          },
          "metadata": {}
        }
      ],
      "source": [
        "!pip install https://github.com/pandas-profiling/pandas-profiling/archive/master.zip > /dev/null\n",
        "!pip install scikit-learn --upgrade\n",
        "\n",
        "import numpy as np\n",
        "import pandas as pd\n",
        "\n",
        "from ydata_profiling import ProfileReport\n",
        "import os\n",
        "\n",
        "from multiprocessing.pool import Pool\n",
        "from math import radians,degrees\n",
        "from typing import Tuple\n",
        "from sklearn.cluster import DBSCAN,KMeans\n",
        "from sklearn.metrics.pairwise import haversine_distances\n",
        "from sklearn.exceptions import ConvergenceWarning\n",
        "import warnings\n",
        "warnings.filterwarnings(\"ignore\", category=ConvergenceWarning)\n",
        "\n",
        "from sklearn.utils._testing import ignore_warnings\n",
        "import plotly.express as px\n",
        "import plotly.graph_objects as go\n",
        "import matplotlib.pyplot as plt\n",
        "%matplotlib inline"
      ]
    },
    {
      "cell_type": "markdown",
      "source": [
        "# Upload do Dataset (CSV):"
      ],
      "metadata": {
        "id": "YqPzOOzO-cU-"
      }
    },
    {
      "cell_type": "code",
      "source": [
        "uber_df = pd.read_csv('uber_peru_2010.csv', delimiter=';')\n",
        "uber_df.columns"
      ],
      "metadata": {
        "colab": {
          "base_uri": "https://localhost:8080/"
        },
        "id": "br5yhBUE-mVp",
        "outputId": "fb3f8161-3895-4b54-eed7-3f4b63a29ef0"
      },
      "execution_count": 2,
      "outputs": [
        {
          "output_type": "execute_result",
          "data": {
            "text/plain": [
              "Index(['journey_id', 'user_id', 'driver_id', 'taxi_id', 'icon', 'start_type',\n",
              "       'start_at', 'start_lat', 'start_lon', 'end_at', 'end_lat', 'end_lon',\n",
              "       'end_state', 'driver_start_lat', 'driver_start_lon', 'arrived_at',\n",
              "       'currency', 'price', 'price_distance', 'price_duration', 'distance',\n",
              "       'duration', 'cost', 'cost_distance', 'cost_duration', 'source',\n",
              "       'driver_score', 'rider_score'],\n",
              "      dtype='object')"
            ]
          },
          "metadata": {},
          "execution_count": 2
        }
      ]
    },
    {
      "cell_type": "markdown",
      "source": [
        "# Análise exploratória:"
      ],
      "metadata": {
        "id": "s0xHYtVz_VIe"
      }
    },
    {
      "cell_type": "code",
      "source": [
        "# Descrição e insight dos dados:\n",
        "uber_df = uber_df[['journey_id', 'user_id','start_lat', 'start_lon','end_lat', 'end_lon']]\n",
        "uber_df.describe()\n",
        "uber_df.head()\n",
        "uber_df.info()\n",
        "uber_df.shape\n",
        "\n",
        "# Média de viagens por passageiro (user_id):\n",
        "user_journey_count = uber_df.groupby('user_id')['journey_id'].count()\n",
        "user_journey_count.mean() # Média de 17 viagens por passageiro\n",
        "\n",
        "# Análise em gráfico histograma:\n",
        "user_journey_count.plot.hist(bins=100)\n",
        "plt.show()"
      ],
      "metadata": {
        "colab": {
          "base_uri": "https://localhost:8080/",
          "height": 430
        },
        "id": "HtZwwvms_aDs",
        "outputId": "84deee53-bb2e-4784-bf81-698bc0c665bb"
      },
      "execution_count": 11,
      "outputs": [
        {
          "output_type": "display_data",
          "data": {
            "text/plain": [
              "<Figure size 640x480 with 1 Axes>"
            ],
            "image/png": "[encoded data removed]"
          },
          "metadata": {}
        }
      ]
    },
    {
      "cell_type": "markdown",
      "source": [
        "# Tratamento de dados:"
      ],
      "metadata": {
        "id": "AE702cJQAv9M"
      }
    },
    {
      "cell_type": "code",
      "source": [
        "# Converter valores string para real:\n",
        "def latlon_string_to_decimal_degree(row:pd.Series)->pd.Series:\n",
        "  for col in [\"start_lat\",\"start_lon\",\"end_lat\",\"end_lon\"]:\n",
        "    row[col] = float(row[col].replace(\",\",\".\"))\n",
        "  return row\n",
        "\n",
        "# Retorna true se latitude e longitude são válidos:\n",
        "def is_location_valid(lat: float, lon: float) -> bool:\n",
        "  try:\n",
        "    result = bool(lat >= -90 and lat <= 90 and lon >= -180 and lon <= 180)\n",
        "  except TypeError:\n",
        "    result = False\n",
        "  return result\n",
        "\n",
        "# Aplicar função de conversão string para real, em cada linha (axis, registro) do dataset:\n",
        "user_df = uber_df.apply(latlon_string_to_decimal_degree, axis=1)\n",
        "\n",
        "# Aplicar validação de conversão nos dados latitude e longitude\n",
        "uber_df['is_location_valid'] = uber_df.apply(lambda x: is_location_valid(x.start_lat, x.start_lon) and is_location_valid(x.end_lat, x.end_lon) , axis=1)\n",
        "uber_df[~uber_df['is_location_valid']] # mostrará 'false' caso possua registro que não foi convertido corretamente, ou não encontra-se no intervalo de valores propostos para latitude e logintude, origem e destino"
      ],
      "metadata": {
        "colab": {
          "base_uri": "https://localhost:8080/",
          "height": 53
        },
        "id": "WIQ6ERy-A0-V",
        "outputId": "aaea67b3-738d-4570-89ba-6d289bcd009a"
      },
      "execution_count": 15,
      "outputs": [
        {
          "output_type": "execute_result",
          "data": {
            "text/plain": [
              "Empty DataFrame\n",
              "Columns: [journey_id, user_id, start_lat, start_lon, end_lat, end_lon, is_location_valid]\n",
              "Index: []"
            ],
            "text/html": [
              "\n",
              "  <div id=\"df-6408ce5b-e2be-4f94-9fcf-4ef994e3a44c\" class=\"colab-df-container\">\n",
              "    <div>\n",
              "<style scoped>\n",
              "    .dataframe tbody tr th:only-of-type {\n",
              "        vertical-align: middle;\n",
              "    }\n",
              "\n",
              "    .dataframe tbody tr th {\n",
              "        vertical-align: top;\n",
              "    }\n",
              "\n",
              "    .dataframe thead th {\n",
              "        text-align: right;\n",
              "    }\n",
              "</style>\n",
              "<table border=\"1\" class=\"dataframe\">\n",
              "  <thead>\n",
              "    <tr style=\"text-align: right;\">\n",
              "      <th></th>\n",
              "      <th>journey_id</th>\n",
              "      <th>user_id</th>\n",
              "      <th>start_lat</th>\n",
              "      <th>start_lon</th>\n",
              "      <th>end_lat</th>\n",
              "      <th>end_lon</th>\n",
              "      <th>is_location_valid</th>\n",
              "    </tr>\n",
              "  </thead>\n",
              "  <tbody>\n",
              "  </tbody>\n",
              "</table>\n",
              "</div>\n",
              "    <div class=\"colab-df-buttons\">\n",
              "\n",
              "  <div class=\"colab-df-container\">\n",
              "    <button class=\"colab-df-convert\" onclick=\"convertToInteractive('df-6408ce5b-e2be-4f94-9fcf-4ef994e3a44c')\"\n",
              "            title=\"Convert this dataframe to an interactive table.\"\n",
              "            style=\"display:none;\">\n",
              "\n",
              "  <svg xmlns=\"http://www.w3.org/2000/svg\" height=\"24px\" viewBox=\"0 -960 960 960\">\n",
              "    <path d=\"M120-120v-720h720v720H120Zm60-500h600v-160H180v160Zm220 220h160v-160H400v160Zm0 220h160v-160H400v160ZM180-400h160v-160H180v160Zm440 0h160v-160H620v160ZM180-180h160v-160H180v160Zm440 0h160v-160H620v160Z\"/>\n",
              "  </svg>\n",
              "    </button>\n",
              "\n",
              "  <style>\n",
              "    .colab-df-container {\n",
              "      display:flex;\n",
              "      gap: 12px;\n",
              "    }\n",
              "\n",
              "    .colab-df-convert {\n",
              "      background-color: #E8F0FE;\n",
              "      border: none;\n",
              "      border-radius: 50%;\n",
              "      cursor: pointer;\n",
              "      display: none;\n",
              "      fill: #1967D2;\n",
              "      height: 32px;\n",
              "      padding: 0 0 0 0;\n",
              "      width: 32px;\n",
              "    }\n",
              "\n",
              "    .colab-df-convert:hover {\n",
              "      background-color: #E2EBFA;\n",
              "      box-shadow: 0px 1px 2px rgba(60, 64, 67, 0.3), 0px 1px 3px 1px rgba(60, 64, 67, 0.15);\n",
              "      fill: #174EA6;\n",
              "    }\n",
              "\n",
              "    .colab-df-buttons div {\n",
              "      margin-bottom: 4px;\n",
              "    }\n",
              "\n",
              "    [theme=dark] .colab-df-convert {\n",
              "      background-color: #3B4455;\n",
              "      fill: #D2E3FC;\n",
              "    }\n",
              "\n",
              "    [theme=dark] .colab-df-convert:hover {\n",
              "      background-color: #434B5C;\n",
              "      box-shadow: 0px 1px 3px 1px rgba(0, 0, 0, 0.15);\n",
              "      filter: drop-shadow(0px 1px 2px rgba(0, 0, 0, 0.3));\n",
              "      fill: #FFFFFF;\n",
              "    }\n",
              "  </style>\n",
              "\n",
              "    <script>\n",
              "      const buttonEl =\n",
              "        document.querySelector('#df-6408ce5b-e2be-4f94-9fcf-4ef994e3a44c button.colab-df-convert');\n",
              "      buttonEl.style.display =\n",
              "        google.colab.kernel.accessAllowed ? 'block' : 'none';\n",
              "\n",
              "      async function convertToInteractive(key) {\n",
              "        const element = document.querySelector('#df-6408ce5b-e2be-4f94-9fcf-4ef994e3a44c');\n",
              "        const dataTable =\n",
              "          await google.colab.kernel.invokeFunction('convertToInteractive',\n",
              "                                                    [key], {});\n",
              "        if (!dataTable) return;\n",
              "\n",
              "        const docLinkHtml = 'Like what you see? Visit the ' +\n",
              "          '<a target=\"_blank\" href=https://colab.research.google.com/notebooks/data_table.ipynb>data table notebook</a>'\n",
              "          + ' to learn more about interactive tables.';\n",
              "        element.innerHTML = '';\n",
              "        dataTable['output_type'] = 'display_data';\n",
              "        await google.colab.output.renderOutput(dataTable, element);\n",
              "        const docLink = document.createElement('div');\n",
              "        docLink.innerHTML = docLinkHtml;\n",
              "        element.appendChild(docLink);\n",
              "      }\n",
              "    </script>\n",
              "  </div>\n",
              "\n",
              "\n",
              "    </div>\n",
              "  </div>\n"
            ],
            "application/vnd.google.colaboratory.intrinsic+json": {
              "type": "dataframe",
              "repr_error": "Out of range float values are not JSON compliant: nan"
            }
          },
          "metadata": {},
          "execution_count": 15
        }
      ]
    },
    {
      "cell_type": "markdown",
      "source": [
        "# Processamento (clustering):"
      ],
      "metadata": {
        "id": "C50nHG8eClVW"
      }
    },
    {
      "cell_type": "code",
      "source": [
        "# Função 'cluster_pins' calcula resultados de clusterização DBSCAN e K-means para pins de usuário:\n",
        "@ignore_warnings(category=ConvergenceWarning)\n",
        "def cluster_pins(pins_in_radians:np.array)->Tuple[np.array,np.array,np.array]:\n",
        "  R=6371000\n",
        "  distance = 100/R\n",
        "  dbscan = DBSCAN(eps=distance, min_samples=2,metric=\"haversine\").fit(pins_in_radians)\n",
        "  n_samples = len(pins_in_radians)\n",
        "  kmeans = KMeans(n_clusters=5 if n_samples>=5 else n_samples , random_state=0).fit(pins_in_radians)\n",
        "  return dbscan.labels_,kmeans.labels_,kmeans.cluster_centers_\n",
        "\n",
        "# Função get_pins_from_rides:\n",
        "def get_pins_from_rides(rides_df:pd.DataFrame)->np.array:\n",
        "  pins = np.concatenate((rides_df[[\"start_lat\",\"start_lon\"]].to_numpy(), rides_df[[\"end_lat\",\"end_lon\"]].to_numpy()), axis=0)\n",
        "  return pins\n",
        "\n",
        "# Função cluster_rides:\n",
        "def cluster_rides(rides_df)->Tuple[pd.DataFrame,pd.DataFrame, pd.DataFrame]:\n",
        "  pins= get_pins_from_rides(rides_df)\n",
        "  pins_in_radians = [[radians(pin[0]),radians(pin[1])] for pin in pins]\n",
        "  dbscan_labels, kmeans_labels,kmeans_centroids = cluster_pins(pins_in_radians)\n",
        "  pins_df = pd.DataFrame({'lat': pins[:, 0], 'lon': pins[:, 1],'dbscan_label':dbscan_labels,'kmeans_label':kmeans_labels})\n",
        "  pins_df = pins_df.astype({'dbscan_label': 'string', 'kmeans_label': 'string'})\n",
        "  unique_labels = np.unique(dbscan_labels)\n",
        "  unique_labels = unique_labels[unique_labels != -1]\n",
        "  dbscan_centroids = [np.mean(np.take(pins, np.argwhere(dbscan_labels==label).reshape(1,-1)[0], axis=0), axis=0) for label in unique_labels]\n",
        "  dbscan_centroids_df = pd.DataFrame({'lat': [centroid[0] for centroid in dbscan_centroids], 'lon':[centroid[1] for centroid in dbscan_centroids], 'label':unique_labels})\n",
        "  dbscan_centroids_df = dbscan_centroids_df.astype({'label': 'string'})\n",
        "  kmeans_centroids_df = pd.DataFrame({'lat': [degrees(centroid[0]) for centroid in kmeans_centroids], 'lon':[degrees(centroid[1]) for centroid in kmeans_centroids], 'label':range(len(kmeans_centroids))})\n",
        "  kmeans_centroids_df = kmeans_centroids_df.astype({'label': 'string'})\n",
        "  return pins_df,dbscan_centroids_df,kmeans_centroids_df"
      ],
      "metadata": {
        "id": "l32xPB3yCnJb"
      },
      "execution_count": 36,
      "outputs": []
    },
    {
      "cell_type": "code",
      "source": [
        "# Clustering via For Loop:\n",
        "unique_users = uber_df['user_id'].unique()\n",
        "%time user_frequent_pins = {user_id:cluster_rides(uber_df[uber_df['user_id']==user_id]) for user_id in unique_users}\n",
        "print(os.cpu_count())\n",
        "p = Pool()\n",
        "\n",
        "# Clustering via multiprocessamento:\n",
        "%time result = p.map(cluster_rides, [uber_df[uber_df['user_id']==user_id] for user_id in unique_users])\n",
        "p.close()\n",
        "p.join()"
      ],
      "metadata": {
        "colab": {
          "base_uri": "https://localhost:8080/"
        },
        "id": "w0aJJG0fE3EA",
        "outputId": "96e105d6-79c9-4841-db56-325bf73f3de4"
      },
      "execution_count": 40,
      "outputs": [
        {
          "output_type": "stream",
          "name": "stdout",
          "text": [
            "CPU times: user 18.2 s, sys: 161 ms, total: 18.4 s\n",
            "Wall time: 19.6 s\n",
            "2\n",
            "CPU times: user 4.78 s, sys: 267 ms, total: 5.05 s\n",
            "Wall time: 15.6 s\n"
          ]
        }
      ]
    },
    {
      "cell_type": "markdown",
      "source": [
        "# Visualização dos resultados:"
      ],
      "metadata": {
        "id": "B30nzXmdI_Zc"
      }
    },
    {
      "cell_type": "code",
      "source": [
        "# Usuários com mais de 100 viagens:\n",
        "loyal_costumer = user_journey_count.where(user_journey_count>100).sort_values().index[0]\n",
        "\n",
        "# Agrupamento dos pins de localizações mais frequentes:\n",
        "loyal_costumer_clusters, dbscan_centroids, kmeans_centroids = user_frequent_pins[loyal_costumer]\n",
        "\n",
        "# Separação em rótulos (labels, cores) para cada local frequente de pins:\n",
        "color_discrete_map = {label:px.colors.qualitative.Light24[(int(label)+1)%24] for label in loyal_costumer_clusters[\"dbscan_label\"].unique()}"
      ],
      "metadata": {
        "id": "TtpGvYQDJCrO"
      },
      "execution_count": 41,
      "outputs": []
    },
    {
      "cell_type": "code",
      "source": [
        "# Via DBSCAN:\n",
        "dbscan_fig = px.scatter_mapbox(loyal_costumer_clusters, lat=\"lat\", lon=\"lon\", color='dbscan_label', zoom=10, color_discrete_map=color_discrete_map)\n",
        "pin_recommendations = (px.scatter_mapbox(dbscan_centroids, lat='lat', lon='lon', color='label', size=[10]*dbscan_centroids.shape[0], size_max=10, color_discrete_map=color_discrete_map, opacity=0.5))\n",
        "dbscan_fig.add_traces(pin_recommendations.data)\n",
        "\n",
        "dbscan_fig.update_layout(mapbox_style=\"carto-positron\")\n",
        "dbscan_fig.update_layout(margin={\"r\":0,\"t\":0,\"l\":0,\"b\":0})\n",
        "dbscan_fig.show()"
      ],
      "metadata": {
        "colab": {
          "base_uri": "https://localhost:8080/",
          "height": 542
        },
        "id": "WZndnhUVKoia",
        "outputId": "b548489e-f7b2-48dd-9e9d-7cb612c3bdbf"
      },
      "execution_count": 42,
      "outputs": [
        {
          "output_type": "display_data",
          "data": {
            "text/html": [
              "<html>\n",
              "<head><meta charset=\"utf-8\" /></head>\n",
              "<body>\n",
              "    <div>            <script src=\"https://cdnjs.cloudflare.com/ajax/libs/mathjax/2.7.5/MathJax.js?config=TeX-AMS-MML_SVG\"></script><script type=\"text/javascript\">if (window.MathJax && window.MathJax.Hub && window.MathJax.Hub.Config) {window.MathJax.Hub.Config({SVG: {font: \"STIX-Web\"}});}</script>                <script type=\"text/javascript\">window.PlotlyConfig = {MathJaxConfig: 'local'};</script>\n",
              "        <script charset=\"utf-8\" src=\"https://cdn.plot.ly/plotly-2.35.2.min.js\"></script>                <div id=\"b0aebe36-4486-48ca-9c9c-40f7a5ad8a94\" class=\"plotly-graph-div\" style=\"height:525px; width:100%;\"></div>            <script type=\"text/javascript\">                                    window.PLOTLYENV=window.PLOTLYENV || {};                                    if (document.getElementById(\"b0aebe36-4486-48ca-9c9c-40f7a5ad8a94\")) {                    Plotly.newPlot(                        \"b0aebe36-4486-48ca-9c9c-40f7a5ad8a94\",                        [{\"hovertemplate\":\"dbscan_label=0\\u003cbr\\u003elat=%{lat}\\u003cbr\\u003elon=%{lon}\\u003cextra\\u003e\\u003c\\u002fextra\\u003e\",\"lat\":[-12.05081558,-12.05081558,-12.05055237,-12.05072021,-12.05035019,-12.0510788,-12.05124283,-12.0506897,-12.05075073,-12.05105591,-12.05055237,-12.05050659,-12.05072021,-12.05049896,-12.05043793,-12.05105591,-12.05052948,-12.05055237,-12.05072021,-12.05048752,-12.05046082],\"legendgroup\":\"0\",\"lon\":[-77.03356934,-77.03356934,-77.03326416,-77.03344727,-77.03335571,-77.03414917,-77.03396606,-77.0335083,-77.0335083,-77.03326416,-77.03326416,-77.03335571,-77.03344727,-77.03338623,-77.03329468,-77.03326416,-77.0329895,-77.03326416,-77.03344727,-77.03335571,-77.0335083],\"marker\":{\"color\":\"#00FE35\"},\"mode\":\"markers\",\"name\":\"0\",\"showlegend\":true,\"subplot\":\"mapbox\",\"type\":\"scattermapbox\"},{\"hovertemplate\":\"dbscan_label=1\\u003cbr\\u003elat=%{lat}\\u003cbr\\u003elon=%{lon}\\u003cextra\\u003e\\u003c\\u002fextra\\u003e\",\"lat\":[-12.08850479,-12.08858109,-12.08873749,-12.08859253,-12.08839035,-12.08854294,-12.08871078,-12.08864212,-12.08869934,-12.08845139,-12.08845139,-12.0886116,-12.08835983,-12.08885956,-12.08856201,-12.08844757,-12.08838272,-12.08865738,-12.08843994,-12.08888626,-12.08786392,-12.08842087,-12.08867645,-12.08860779,-12.08848572,-12.08853912,-12.08840179,-12.08843613,-12.08835602,-12.08876801,-12.08854675,-12.08846664,-12.08851242,-12.08825302,-12.0886879,-12.08886719,-12.08850479,-12.08847809,-12.08863068,-12.08869171,-12.08842087,-12.08863831,-12.08841705,-12.08862305,-12.08861923,-12.08849716,-12.08850479,-12.08861923,-12.08869171,-12.08851624,-12.08830643,-12.08960342,-12.08873749,-12.08846664,-12.08867645,-12.08859253,-12.08960342,-12.08848572,-12.08869934,-12.08864212,-12.08835983,-12.08862305,-12.08864212,-12.08861923,-12.08876801,-12.08825302,-12.08843994,-12.08869171,-12.08786392,-12.08838272,-12.08849716,-12.08843613,-12.08850479,-12.08853912,-12.08838272,-12.08852386,-12.08842087,-12.08888626,-12.08876801,-12.08850479,-12.08858109,-12.08851242,-12.08847809,-12.08862305,-12.08861923,-12.08885956,-12.08876801,-12.08869171],\"legendgroup\":\"1\",\"lon\":[-76.96948242,-76.96948242,-76.96932983,-76.9694519,-76.9694519,-76.96948242,-76.96942139,-76.96948242,-76.96954346,-76.96954346,-76.96954346,-76.96957397,-76.96942139,-76.96939087,-76.96963501,-76.96948242,-76.96942139,-76.9694519,-76.96939087,-76.96917725,-76.96932983,-76.96942139,-76.96954346,-76.96948242,-76.9694519,-76.96981812,-76.96948242,-76.9694519,-76.96960449,-76.9694519,-76.9694519,-76.96957397,-76.96954346,-76.96948242,-76.96929932,-76.9692688,-76.96942139,-76.96948242,-76.96936035,-76.96954346,-76.9694519,-76.9692688,-76.9694519,-76.96951294,-76.96960449,-76.96948242,-76.96951294,-76.96929932,-76.9692688,-76.96942139,-76.96939087,-76.9692688,-76.96932983,-76.96957397,-76.96954346,-76.9694519,-76.9692688,-76.9694519,-76.96954346,-76.96948242,-76.96942139,-76.96951294,-76.96948242,-76.96929932,-76.9694519,-76.96948242,-76.96939087,-76.96954346,-76.96932983,-76.96942139,-76.96948242,-76.9694519,-76.96951294,-76.96981812,-76.96942139,-76.96917725,-76.9694519,-76.96917725,-76.9694519,-76.96948242,-76.96948242,-76.96954346,-76.96948242,-76.96951294,-76.96960449,-76.96939087,-76.9694519,-76.9692688],\"marker\":{\"color\":\"#6A76FC\"},\"mode\":\"markers\",\"name\":\"1\",\"showlegend\":true,\"subplot\":\"mapbox\",\"type\":\"scattermapbox\"},{\"hovertemplate\":\"dbscan_label=2\\u003cbr\\u003elat=%{lat}\\u003cbr\\u003elon=%{lon}\\u003cextra\\u003e\\u003c\\u002fextra\\u003e\",\"lat\":[-12.05802155,-12.05766678,-12.0578537,-12.05768585,-12.05740738,-12.05774307,-12.05832291,-12.05755234,-12.05765915,-12.05755234,-12.05755234],\"legendgroup\":\"2\",\"lon\":[-77.03509521,-77.03567505,-77.03518677,-77.03543091,-77.03552246,-77.03540039,-77.03469849,-77.03503418,-77.03488159,-77.03503418,-77.03503418],\"marker\":{\"color\":\"#FED4C4\"},\"mode\":\"markers\",\"name\":\"2\",\"showlegend\":true,\"subplot\":\"mapbox\",\"type\":\"scattermapbox\"},{\"hovertemplate\":\"dbscan_label=3\\u003cbr\\u003elat=%{lat}\\u003cbr\\u003elon=%{lon}\\u003cextra\\u003e\\u003c\\u002fextra\\u003e\",\"lat\":[-12.09716034,-12.09727478,-12.09664536,-12.09767532],\"legendgroup\":\"3\",\"lon\":[-77.03717041,-77.03768921,-77.03689575,-77.03668213],\"marker\":{\"color\":\"#FE00CE\"},\"mode\":\"markers\",\"name\":\"3\",\"showlegend\":true,\"subplot\":\"mapbox\",\"type\":\"scattermapbox\"},{\"hovertemplate\":\"dbscan_label=4\\u003cbr\\u003elat=%{lat}\\u003cbr\\u003elon=%{lon}\\u003cextra\\u003e\\u003c\\u002fextra\\u003e\",\"lat\":[-12.10129929,-12.10187531,-12.1013031,-12.10139465],\"legendgroup\":\"4\",\"lon\":[-77.03701782,-77.03668213,-77.03689575,-77.03686523],\"marker\":{\"color\":\"#0DF9FF\"},\"mode\":\"markers\",\"name\":\"4\",\"showlegend\":true,\"subplot\":\"mapbox\",\"type\":\"scattermapbox\"},{\"hovertemplate\":\"dbscan_label=5\\u003cbr\\u003elat=%{lat}\\u003cbr\\u003elon=%{lon}\\u003cextra\\u003e\\u003c\\u002fextra\\u003e\",\"lat\":[-12.12776566,-12.12779236],\"legendgroup\":\"5\",\"lon\":[-76.99487305,-76.99481201],\"marker\":{\"color\":\"#F6F926\"},\"mode\":\"markers\",\"name\":\"5\",\"showlegend\":true,\"subplot\":\"mapbox\",\"type\":\"scattermapbox\"},{\"hovertemplate\":\"dbscan_label=-1\\u003cbr\\u003elat=%{lat}\\u003cbr\\u003elon=%{lon}\\u003cextra\\u003e\\u003c\\u002fextra\\u003e\",\"lat\":[-12.09113693,-12.0949707,-12.09838104,-12.09164429,-12.08895111,-12.1075058,-12.04989243,-12.04478455,-12.09234619,-12.09021378,-12.12783051,-12.09573746,-12.10162354,-12.08234787,-12.12297821,-12.00590134,-12.09284973,-12.09181595,-12.08338547,-12.04994202,-12.1424408,-12.05154037,-12.10067368,-12.07691193,-12.06937408,-12.04825592,-12.05251694,-12.04949188,-12.10417557,-12.02405167,-12.08916092,-12.14678192,-12.04666519,-12.04372787,-12.05550003],\"legendgroup\":\"-1\",\"lon\":[-76.95025635,-77.02871704,-77.02667236,-77.02410889,-77.00689697,-77.02978516,-77.05657959,-76.95153809,-77.0329895,-77.02334595,-76.99691772,-77.02154541,-76.97018433,-77.04782104,-77.02886963,-77.07998657,-77.02444458,-76.99136353,-77.05245972,-77.05535889,-76.99499512,-77.02810669,-77.02767944,-76.92736816,-76.94992065,-77.03427124,-77.03335571,-77.0322876,-77.02279663,-77.11203003,-77.02163696,-77.02246094,-77.02761841,-76.953125,-77.03799438],\"marker\":{\"color\":\"#FD3216\"},\"mode\":\"markers\",\"name\":\"-1\",\"showlegend\":true,\"subplot\":\"mapbox\",\"type\":\"scattermapbox\"},{\"hovertemplate\":\"dbscan_label=6\\u003cbr\\u003elat=%{lat}\\u003cbr\\u003elon=%{lon}\\u003cextra\\u003e\\u003c\\u002fextra\\u003e\",\"lat\":[-12.14347458,-12.14347458],\"legendgroup\":\"6\",\"lon\":[-76.99603271,-76.99603271],\"marker\":{\"color\":\"#FF9616\"},\"mode\":\"markers\",\"name\":\"6\",\"showlegend\":true,\"subplot\":\"mapbox\",\"type\":\"scattermapbox\"},{\"hovertemplate\":\"dbscan_label=7\\u003cbr\\u003elat=%{lat}\\u003cbr\\u003elon=%{lon}\\u003cextra\\u003e\\u003c\\u002fextra\\u003e\",\"lat\":[-12.05007553,-12.04993439,-12.04946899,-12.04850388,-12.04895401,-12.04980087,-12.05007553],\"legendgroup\":\"7\",\"lon\":[-77.0423584,-77.0423584,-77.04244995,-77.04248047,-77.04238892,-77.04229736,-77.0423584],\"marker\":{\"color\":\"#479B55\"},\"mode\":\"markers\",\"name\":\"7\",\"showlegend\":true,\"subplot\":\"mapbox\",\"type\":\"scattermapbox\"},{\"hovertemplate\":\"dbscan_label=8\\u003cbr\\u003elat=%{lat}\\u003cbr\\u003elon=%{lon}\\u003cextra\\u003e\\u003c\\u002fextra\\u003e\",\"lat\":[-12.0890274,-12.08955383],\"legendgroup\":\"8\",\"lon\":[-77.02288818,-77.02264404],\"marker\":{\"color\":\"#EEA6FB\"},\"mode\":\"markers\",\"name\":\"8\",\"showlegend\":true,\"subplot\":\"mapbox\",\"type\":\"scattermapbox\"},{\"hovertemplate\":\"dbscan_label=9\\u003cbr\\u003elat=%{lat}\\u003cbr\\u003elon=%{lon}\\u003cextra\\u003e\\u003c\\u002fextra\\u003e\",\"lat\":[-12.04930115,-12.04932022],\"legendgroup\":\"9\",\"lon\":[-76.95239258,-76.95230103],\"marker\":{\"color\":\"#DC587D\"},\"mode\":\"markers\",\"name\":\"9\",\"showlegend\":true,\"subplot\":\"mapbox\",\"type\":\"scattermapbox\"},{\"hovertemplate\":\"dbscan_label=10\\u003cbr\\u003elat=%{lat}\\u003cbr\\u003elon=%{lon}\\u003cextra\\u003e\\u003c\\u002fextra\\u003e\",\"lat\":[-12.11917114,-12.11942291],\"legendgroup\":\"10\",\"lon\":[-77.02902222,-77.02871704],\"marker\":{\"color\":\"#D626FF\"},\"mode\":\"markers\",\"name\":\"10\",\"showlegend\":true,\"subplot\":\"mapbox\",\"type\":\"scattermapbox\"},{\"hovertemplate\":\"dbscan_label=11\\u003cbr\\u003elat=%{lat}\\u003cbr\\u003elon=%{lon}\\u003cextra\\u003e\\u003c\\u002fextra\\u003e\",\"lat\":[-12.08415604,-12.08380127],\"legendgroup\":\"11\",\"lon\":[-77.04907227,-77.0484314],\"marker\":{\"color\":\"#6E899C\"},\"mode\":\"markers\",\"name\":\"11\",\"showlegend\":true,\"subplot\":\"mapbox\",\"type\":\"scattermapbox\"},{\"hovertemplate\":\"dbscan_label=12\\u003cbr\\u003elat=%{lat}\\u003cbr\\u003elon=%{lon}\\u003cextra\\u003e\\u003c\\u002fextra\\u003e\",\"lat\":[-12.05755234,-12.05788803],\"legendgroup\":\"12\",\"lon\":[-77.03881836,-77.03924561],\"marker\":{\"color\":\"#00B5F7\"},\"mode\":\"markers\",\"name\":\"12\",\"showlegend\":true,\"subplot\":\"mapbox\",\"type\":\"scattermapbox\"},{\"hovertemplate\":\"dbscan_label=13\\u003cbr\\u003elat=%{lat}\\u003cbr\\u003elon=%{lon}\\u003cextra\\u003e\\u003c\\u002fextra\\u003e\",\"lat\":[-12.09946442,-12.09916306,-12.09876633],\"legendgroup\":\"13\",\"lon\":[-77.03677368,-77.03668213,-77.03683472],\"marker\":{\"color\":\"#B68E00\"},\"mode\":\"markers\",\"name\":\"13\",\"showlegend\":true,\"subplot\":\"mapbox\",\"type\":\"scattermapbox\"},{\"hovertemplate\":\"dbscan_label=14\\u003cbr\\u003elat=%{lat}\\u003cbr\\u003elon=%{lon}\\u003cextra\\u003e\\u003c\\u002fextra\\u003e\",\"lat\":[-12.08690643,-12.08690643,-12.08672333],\"legendgroup\":\"14\",\"lon\":[-76.97006226,-76.97006226,-76.97027588],\"marker\":{\"color\":\"#C9FBE5\"},\"mode\":\"markers\",\"name\":\"14\",\"showlegend\":true,\"subplot\":\"mapbox\",\"type\":\"scattermapbox\"},{\"hovertemplate\":\"dbscan_label=15\\u003cbr\\u003elat=%{lat}\\u003cbr\\u003elon=%{lon}\\u003cextra\\u003e\\u003c\\u002fextra\\u003e\",\"lat\":[-12.04521561,-12.04570389],\"legendgroup\":\"15\",\"lon\":[-77.03167725,-77.03103638],\"marker\":{\"color\":\"#FF0092\"},\"mode\":\"markers\",\"name\":\"15\",\"showlegend\":true,\"subplot\":\"mapbox\",\"type\":\"scattermapbox\"},{\"hovertemplate\":\"dbscan_label=16\\u003cbr\\u003elat=%{lat}\\u003cbr\\u003elon=%{lon}\\u003cextra\\u003e\\u003c\\u002fextra\\u003e\",\"lat\":[-12.04972839,-12.04997253],\"legendgroup\":\"16\",\"lon\":[-77.02981567,-77.02911377],\"marker\":{\"color\":\"#22FFA7\"},\"mode\":\"markers\",\"name\":\"16\",\"showlegend\":true,\"subplot\":\"mapbox\",\"type\":\"scattermapbox\"},{\"hovertemplate\":\"dbscan_label=17\\u003cbr\\u003elat=%{lat}\\u003cbr\\u003elon=%{lon}\\u003cextra\\u003e\\u003c\\u002fextra\\u003e\",\"lat\":[-12.09503174,-12.09512329],\"legendgroup\":\"17\",\"lon\":[-77.03793335,-77.03778076],\"marker\":{\"color\":\"#E3EE9E\"},\"mode\":\"markers\",\"name\":\"17\",\"showlegend\":true,\"subplot\":\"mapbox\",\"type\":\"scattermapbox\"},{\"hovertemplate\":\"dbscan_label=18\\u003cbr\\u003elat=%{lat}\\u003cbr\\u003elon=%{lon}\\u003cextra\\u003e\\u003c\\u002fextra\\u003e\",\"lat\":[-12.02184677,-12.02199554],\"legendgroup\":\"18\",\"lon\":[-77.10797119,-77.10818481],\"marker\":{\"color\":\"#86CE00\"},\"mode\":\"markers\",\"name\":\"18\",\"showlegend\":true,\"subplot\":\"mapbox\",\"type\":\"scattermapbox\"},{\"hovertemplate\":\"dbscan_label=19\\u003cbr\\u003elat=%{lat}\\u003cbr\\u003elon=%{lon}\\u003cextra\\u003e\\u003c\\u002fextra\\u003e\",\"lat\":[-11.98299408,-11.98299408,-11.98299408,-11.98299408,-11.9822998,-11.98299408,-11.98314667],\"legendgroup\":\"19\",\"lon\":[-77.07778931,-77.07778931,-77.07778931,-77.07778931,-77.07766724,-77.07778931,-77.07775879],\"marker\":{\"color\":\"#BC7196\"},\"mode\":\"markers\",\"name\":\"19\",\"showlegend\":true,\"subplot\":\"mapbox\",\"type\":\"scattermapbox\"},{\"hovertemplate\":\"dbscan_label=20\\u003cbr\\u003elat=%{lat}\\u003cbr\\u003elon=%{lon}\\u003cextra\\u003e\\u003c\\u002fextra\\u003e\",\"lat\":[-12.07442474,-12.07442474,-12.07442474],\"legendgroup\":\"20\",\"lon\":[-76.95169067,-76.95169067,-76.95169067],\"marker\":{\"color\":\"#7E7DCD\"},\"mode\":\"markers\",\"name\":\"20\",\"showlegend\":true,\"subplot\":\"mapbox\",\"type\":\"scattermapbox\"},{\"hovertemplate\":\"label=0\\u003cbr\\u003esize=%{marker.size}\\u003cbr\\u003elat=%{lat}\\u003cbr\\u003elon=%{lon}\\u003cextra\\u003e\\u003c\\u002fextra\\u003e\",\"lat\":[-12.050694965238094],\"legendgroup\":\"0\",\"lon\":[-77.03343709333333],\"marker\":{\"color\":\"#00FE35\",\"opacity\":0.5,\"size\":[10],\"sizemode\":\"area\",\"sizeref\":0.1},\"mode\":\"markers\",\"name\":\"0\",\"showlegend\":true,\"subplot\":\"mapbox\",\"type\":\"scattermapbox\"},{\"hovertemplate\":\"label=1\\u003cbr\\u003esize=%{marker.size}\\u003cbr\\u003elat=%{lat}\\u003cbr\\u003elon=%{lon}\\u003cextra\\u003e\\u003c\\u002fextra\\u003e\",\"lat\":[-12.088571678522726],\"legendgroup\":\"1\",\"lon\":[-76.9694512103409],\"marker\":{\"color\":\"#6A76FC\",\"opacity\":0.5,\"size\":[10],\"sizemode\":\"area\",\"sizeref\":0.1},\"mode\":\"markers\",\"name\":\"1\",\"showlegend\":true,\"subplot\":\"mapbox\",\"type\":\"scattermapbox\"},{\"hovertemplate\":\"label=2\\u003cbr\\u003esize=%{marker.size}\\u003cbr\\u003elat=%{lat}\\u003cbr\\u003elon=%{lon}\\u003cextra\\u003e\\u003c\\u002fextra\\u003e\",\"lat\":[-12.057728855454544],\"legendgroup\":\"2\",\"lon\":[-77.03518121909092],\"marker\":{\"color\":\"#FED4C4\",\"opacity\":0.5,\"size\":[10],\"sizemode\":\"area\",\"sizeref\":0.1},\"mode\":\"markers\",\"name\":\"2\",\"showlegend\":true,\"subplot\":\"mapbox\",\"type\":\"scattermapbox\"},{\"hovertemplate\":\"label=3\\u003cbr\\u003esize=%{marker.size}\\u003cbr\\u003elat=%{lat}\\u003cbr\\u003elon=%{lon}\\u003cextra\\u003e\\u003c\\u002fextra\\u003e\",\"lat\":[-12.097188950000001],\"legendgroup\":\"3\",\"lon\":[-77.037109375],\"marker\":{\"color\":\"#FE00CE\",\"opacity\":0.5,\"size\":[10],\"sizemode\":\"area\",\"sizeref\":0.1},\"mode\":\"markers\",\"name\":\"3\",\"showlegend\":true,\"subplot\":\"mapbox\",\"type\":\"scattermapbox\"},{\"hovertemplate\":\"label=4\\u003cbr\\u003esize=%{marker.size}\\u003cbr\\u003elat=%{lat}\\u003cbr\\u003elon=%{lon}\\u003cextra\\u003e\\u003c\\u002fextra\\u003e\",\"lat\":[-12.101468087499999],\"legendgroup\":\"4\",\"lon\":[-77.03686523249999],\"marker\":{\"color\":\"#0DF9FF\",\"opacity\":0.5,\"size\":[10],\"sizemode\":\"area\",\"sizeref\":0.1},\"mode\":\"markers\",\"name\":\"4\",\"showlegend\":true,\"subplot\":\"mapbox\",\"type\":\"scattermapbox\"},{\"hovertemplate\":\"label=5\\u003cbr\\u003esize=%{marker.size}\\u003cbr\\u003elat=%{lat}\\u003cbr\\u003elon=%{lon}\\u003cextra\\u003e\\u003c\\u002fextra\\u003e\",\"lat\":[-12.127779010000001],\"legendgroup\":\"5\",\"lon\":[-76.99484253],\"marker\":{\"color\":\"#F6F926\",\"opacity\":0.5,\"size\":[10],\"sizemode\":\"area\",\"sizeref\":0.1},\"mode\":\"markers\",\"name\":\"5\",\"showlegend\":true,\"subplot\":\"mapbox\",\"type\":\"scattermapbox\"},{\"hovertemplate\":\"label=6\\u003cbr\\u003esize=%{marker.size}\\u003cbr\\u003elat=%{lat}\\u003cbr\\u003elon=%{lon}\\u003cextra\\u003e\\u003c\\u002fextra\\u003e\",\"lat\":[-12.14347458],\"legendgroup\":\"6\",\"lon\":[-76.99603271],\"marker\":{\"color\":\"#FF9616\",\"opacity\":0.5,\"size\":[10],\"sizemode\":\"area\",\"sizeref\":0.1},\"mode\":\"markers\",\"name\":\"6\",\"showlegend\":true,\"subplot\":\"mapbox\",\"type\":\"scattermapbox\"},{\"hovertemplate\":\"label=7\\u003cbr\\u003esize=%{marker.size}\\u003cbr\\u003elat=%{lat}\\u003cbr\\u003elon=%{lon}\\u003cextra\\u003e\\u003c\\u002fextra\\u003e\",\"lat\":[-12.049544742857142],\"legendgroup\":\"7\",\"lon\":[-77.04238455714287],\"marker\":{\"color\":\"#479B55\",\"opacity\":0.5,\"size\":[10],\"sizemode\":\"area\",\"sizeref\":0.1},\"mode\":\"markers\",\"name\":\"7\",\"showlegend\":true,\"subplot\":\"mapbox\",\"type\":\"scattermapbox\"},{\"hovertemplate\":\"label=8\\u003cbr\\u003esize=%{marker.size}\\u003cbr\\u003elat=%{lat}\\u003cbr\\u003elon=%{lon}\\u003cextra\\u003e\\u003c\\u002fextra\\u003e\",\"lat\":[-12.089290615],\"legendgroup\":\"8\",\"lon\":[-77.02276610999999],\"marker\":{\"color\":\"#EEA6FB\",\"opacity\":0.5,\"size\":[10],\"sizemode\":\"area\",\"sizeref\":0.1},\"mode\":\"markers\",\"name\":\"8\",\"showlegend\":true,\"subplot\":\"mapbox\",\"type\":\"scattermapbox\"},{\"hovertemplate\":\"label=9\\u003cbr\\u003esize=%{marker.size}\\u003cbr\\u003elat=%{lat}\\u003cbr\\u003elon=%{lon}\\u003cextra\\u003e\\u003c\\u002fextra\\u003e\",\"lat\":[-12.049310685],\"legendgroup\":\"9\",\"lon\":[-76.95234680499999],\"marker\":{\"color\":\"#DC587D\",\"opacity\":0.5,\"size\":[10],\"sizemode\":\"area\",\"sizeref\":0.1},\"mode\":\"markers\",\"name\":\"9\",\"showlegend\":true,\"subplot\":\"mapbox\",\"type\":\"scattermapbox\"},{\"hovertemplate\":\"label=10\\u003cbr\\u003esize=%{marker.size}\\u003cbr\\u003elat=%{lat}\\u003cbr\\u003elon=%{lon}\\u003cextra\\u003e\\u003c\\u002fextra\\u003e\",\"lat\":[-12.119297025000002],\"legendgroup\":\"10\",\"lon\":[-77.02886963],\"marker\":{\"color\":\"#D626FF\",\"opacity\":0.5,\"size\":[10],\"sizemode\":\"area\",\"sizeref\":0.1},\"mode\":\"markers\",\"name\":\"10\",\"showlegend\":true,\"subplot\":\"mapbox\",\"type\":\"scattermapbox\"},{\"hovertemplate\":\"label=11\\u003cbr\\u003esize=%{marker.size}\\u003cbr\\u003elat=%{lat}\\u003cbr\\u003elon=%{lon}\\u003cextra\\u003e\\u003c\\u002fextra\\u003e\",\"lat\":[-12.083978655],\"legendgroup\":\"11\",\"lon\":[-77.04875183499999],\"marker\":{\"color\":\"#6E899C\",\"opacity\":0.5,\"size\":[10],\"sizemode\":\"area\",\"sizeref\":0.1},\"mode\":\"markers\",\"name\":\"11\",\"showlegend\":true,\"subplot\":\"mapbox\",\"type\":\"scattermapbox\"},{\"hovertemplate\":\"label=12\\u003cbr\\u003esize=%{marker.size}\\u003cbr\\u003elat=%{lat}\\u003cbr\\u003elon=%{lon}\\u003cextra\\u003e\\u003c\\u002fextra\\u003e\",\"lat\":[-12.057720185],\"legendgroup\":\"12\",\"lon\":[-77.039031985],\"marker\":{\"color\":\"#00B5F7\",\"opacity\":0.5,\"size\":[10],\"sizemode\":\"area\",\"sizeref\":0.1},\"mode\":\"markers\",\"name\":\"12\",\"showlegend\":true,\"subplot\":\"mapbox\",\"type\":\"scattermapbox\"},{\"hovertemplate\":\"label=13\\u003cbr\\u003esize=%{marker.size}\\u003cbr\\u003elat=%{lat}\\u003cbr\\u003elon=%{lon}\\u003cextra\\u003e\\u003c\\u002fextra\\u003e\",\"lat\":[-12.09913127],\"legendgroup\":\"13\",\"lon\":[-77.03676351],\"marker\":{\"color\":\"#B68E00\",\"opacity\":0.5,\"size\":[10],\"sizemode\":\"area\",\"sizeref\":0.1},\"mode\":\"markers\",\"name\":\"13\",\"showlegend\":true,\"subplot\":\"mapbox\",\"type\":\"scattermapbox\"},{\"hovertemplate\":\"label=14\\u003cbr\\u003esize=%{marker.size}\\u003cbr\\u003elat=%{lat}\\u003cbr\\u003elon=%{lon}\\u003cextra\\u003e\\u003c\\u002fextra\\u003e\",\"lat\":[-12.086845396666668],\"legendgroup\":\"14\",\"lon\":[-76.97013346666667],\"marker\":{\"color\":\"#C9FBE5\",\"opacity\":0.5,\"size\":[10],\"sizemode\":\"area\",\"sizeref\":0.1},\"mode\":\"markers\",\"name\":\"14\",\"showlegend\":true,\"subplot\":\"mapbox\",\"type\":\"scattermapbox\"},{\"hovertemplate\":\"label=15\\u003cbr\\u003esize=%{marker.size}\\u003cbr\\u003elat=%{lat}\\u003cbr\\u003elon=%{lon}\\u003cextra\\u003e\\u003c\\u002fextra\\u003e\",\"lat\":[-12.04545975],\"legendgroup\":\"15\",\"lon\":[-77.03135681500001],\"marker\":{\"color\":\"#FF0092\",\"opacity\":0.5,\"size\":[10],\"sizemode\":\"area\",\"sizeref\":0.1},\"mode\":\"markers\",\"name\":\"15\",\"showlegend\":true,\"subplot\":\"mapbox\",\"type\":\"scattermapbox\"},{\"hovertemplate\":\"label=16\\u003cbr\\u003esize=%{marker.size}\\u003cbr\\u003elat=%{lat}\\u003cbr\\u003elon=%{lon}\\u003cextra\\u003e\\u003c\\u002fextra\\u003e\",\"lat\":[-12.04985046],\"legendgroup\":\"16\",\"lon\":[-77.02946471999999],\"marker\":{\"color\":\"#22FFA7\",\"opacity\":0.5,\"size\":[10],\"sizemode\":\"area\",\"sizeref\":0.1},\"mode\":\"markers\",\"name\":\"16\",\"showlegend\":true,\"subplot\":\"mapbox\",\"type\":\"scattermapbox\"},{\"hovertemplate\":\"label=17\\u003cbr\\u003esize=%{marker.size}\\u003cbr\\u003elat=%{lat}\\u003cbr\\u003elon=%{lon}\\u003cextra\\u003e\\u003c\\u002fextra\\u003e\",\"lat\":[-12.095077515],\"legendgroup\":\"17\",\"lon\":[-77.037857055],\"marker\":{\"color\":\"#E3EE9E\",\"opacity\":0.5,\"size\":[10],\"sizemode\":\"area\",\"sizeref\":0.1},\"mode\":\"markers\",\"name\":\"17\",\"showlegend\":true,\"subplot\":\"mapbox\",\"type\":\"scattermapbox\"},{\"hovertemplate\":\"label=18\\u003cbr\\u003esize=%{marker.size}\\u003cbr\\u003elat=%{lat}\\u003cbr\\u003elon=%{lon}\\u003cextra\\u003e\\u003c\\u002fextra\\u003e\",\"lat\":[-12.021921155000001],\"legendgroup\":\"18\",\"lon\":[-77.108078],\"marker\":{\"color\":\"#86CE00\",\"opacity\":0.5,\"size\":[10],\"sizemode\":\"area\",\"sizeref\":0.1},\"mode\":\"markers\",\"name\":\"18\",\"showlegend\":true,\"subplot\":\"mapbox\",\"type\":\"scattermapbox\"},{\"hovertemplate\":\"label=19\\u003cbr\\u003esize=%{marker.size}\\u003cbr\\u003elat=%{lat}\\u003cbr\\u003elon=%{lon}\\u003cextra\\u003e\\u003c\\u002fextra\\u003e\",\"lat\":[-11.982916695714284],\"legendgroup\":\"19\",\"lon\":[-77.07776751142856],\"marker\":{\"color\":\"#BC7196\",\"opacity\":0.5,\"size\":[10],\"sizemode\":\"area\",\"sizeref\":0.1},\"mode\":\"markers\",\"name\":\"19\",\"showlegend\":true,\"subplot\":\"mapbox\",\"type\":\"scattermapbox\"},{\"hovertemplate\":\"label=20\\u003cbr\\u003esize=%{marker.size}\\u003cbr\\u003elat=%{lat}\\u003cbr\\u003elon=%{lon}\\u003cextra\\u003e\\u003c\\u002fextra\\u003e\",\"lat\":[-12.07442474],\"legendgroup\":\"20\",\"lon\":[-76.95169067],\"marker\":{\"color\":\"#7E7DCD\",\"opacity\":0.5,\"size\":[10],\"sizemode\":\"area\",\"sizeref\":0.1},\"mode\":\"markers\",\"name\":\"20\",\"showlegend\":true,\"subplot\":\"mapbox\",\"type\":\"scattermapbox\"}],                        {\"template\":{\"data\":{\"histogram2dcontour\":[{\"type\":\"histogram2dcontour\",\"colorbar\":{\"outlinewidth\":0,\"ticks\":\"\"},\"colorscale\":[[0.0,\"#0d0887\"],[0.1111111111111111,\"#46039f\"],[0.2222222222222222,\"#7201a8\"],[0.3333333333333333,\"#9c179e\"],[0.4444444444444444,\"#bd3786\"],[0.5555555555555556,\"#d8576b\"],[0.6666666666666666,\"#ed7953\"],[0.7777777777777778,\"#fb9f3a\"],[0.8888888888888888,\"#fdca26\"],[1.0,\"#f0f921\"]]}],\"choropleth\":[{\"type\":\"choropleth\",\"colorbar\":{\"outlinewidth\":0,\"ticks\":\"\"}}],\"histogram2d\":[{\"type\":\"histogram2d\",\"colorbar\":{\"outlinewidth\":0,\"ticks\":\"\"},\"colorscale\":[[0.0,\"#0d0887\"],[0.1111111111111111,\"#46039f\"],[0.2222222222222222,\"#7201a8\"],[0.3333333333333333,\"#9c179e\"],[0.4444444444444444,\"#bd3786\"],[0.5555555555555556,\"#d8576b\"],[0.6666666666666666,\"#ed7953\"],[0.7777777777777778,\"#fb9f3a\"],[0.8888888888888888,\"#fdca26\"],[1.0,\"#f0f921\"]]}],\"heatmap\":[{\"type\":\"heatmap\",\"colorbar\":{\"outlinewidth\":0,\"ticks\":\"\"},\"colorscale\":[[0.0,\"#0d0887\"],[0.1111111111111111,\"#46039f\"],[0.2222222222222222,\"#7201a8\"],[0.3333333333333333,\"#9c179e\"],[0.4444444444444444,\"#bd3786\"],[0.5555555555555556,\"#d8576b\"],[0.6666666666666666,\"#ed7953\"],[0.7777777777777778,\"#fb9f3a\"],[0.8888888888888888,\"#fdca26\"],[1.0,\"#f0f921\"]]}],\"heatmapgl\":[{\"type\":\"heatmapgl\",\"colorbar\":{\"outlinewidth\":0,\"ticks\":\"\"},\"colorscale\":[[0.0,\"#0d0887\"],[0.1111111111111111,\"#46039f\"],[0.2222222222222222,\"#7201a8\"],[0.3333333333333333,\"#9c179e\"],[0.4444444444444444,\"#bd3786\"],[0.5555555555555556,\"#d8576b\"],[0.6666666666666666,\"#ed7953\"],[0.7777777777777778,\"#fb9f3a\"],[0.8888888888888888,\"#fdca26\"],[1.0,\"#f0f921\"]]}],\"contourcarpet\":[{\"type\":\"contourcarpet\",\"colorbar\":{\"outlinewidth\":0,\"ticks\":\"\"}}],\"contour\":[{\"type\":\"contour\",\"colorbar\":{\"outlinewidth\":0,\"ticks\":\"\"},\"colorscale\":[[0.0,\"#0d0887\"],[0.1111111111111111,\"#46039f\"],[0.2222222222222222,\"#7201a8\"],[0.3333333333333333,\"#9c179e\"],[0.4444444444444444,\"#bd3786\"],[0.5555555555555556,\"#d8576b\"],[0.6666666666666666,\"#ed7953\"],[0.7777777777777778,\"#fb9f3a\"],[0.8888888888888888,\"#fdca26\"],[1.0,\"#f0f921\"]]}],\"surface\":[{\"type\":\"surface\",\"colorbar\":{\"outlinewidth\":0,\"ticks\":\"\"},\"colorscale\":[[0.0,\"#0d0887\"],[0.1111111111111111,\"#46039f\"],[0.2222222222222222,\"#7201a8\"],[0.3333333333333333,\"#9c179e\"],[0.4444444444444444,\"#bd3786\"],[0.5555555555555556,\"#d8576b\"],[0.6666666666666666,\"#ed7953\"],[0.7777777777777778,\"#fb9f3a\"],[0.8888888888888888,\"#fdca26\"],[1.0,\"#f0f921\"]]}],\"mesh3d\":[{\"type\":\"mesh3d\",\"colorbar\":{\"outlinewidth\":0,\"ticks\":\"\"}}],\"scatter\":[{\"fillpattern\":{\"fillmode\":\"overlay\",\"size\":10,\"solidity\":0.2},\"type\":\"scatter\"}],\"parcoords\":[{\"type\":\"parcoords\",\"line\":{\"colorbar\":{\"outlinewidth\":0,\"ticks\":\"\"}}}],\"scatterpolargl\":[{\"type\":\"scatterpolargl\",\"marker\":{\"colorbar\":{\"outlinewidth\":0,\"ticks\":\"\"}}}],\"bar\":[{\"error_x\":{\"color\":\"#2a3f5f\"},\"error_y\":{\"color\":\"#2a3f5f\"},\"marker\":{\"line\":{\"color\":\"#E5ECF6\",\"width\":0.5},\"pattern\":{\"fillmode\":\"overlay\",\"size\":10,\"solidity\":0.2}},\"type\":\"bar\"}],\"scattergeo\":[{\"type\":\"scattergeo\",\"marker\":{\"colorbar\":{\"outlinewidth\":0,\"ticks\":\"\"}}}],\"scatterpolar\":[{\"type\":\"scatterpolar\",\"marker\":{\"colorbar\":{\"outlinewidth\":0,\"ticks\":\"\"}}}],\"histogram\":[{\"marker\":{\"pattern\":{\"fillmode\":\"overlay\",\"size\":10,\"solidity\":0.2}},\"type\":\"histogram\"}],\"scattergl\":[{\"type\":\"scattergl\",\"marker\":{\"colorbar\":{\"outlinewidth\":0,\"ticks\":\"\"}}}],\"scatter3d\":[{\"type\":\"scatter3d\",\"line\":{\"colorbar\":{\"outlinewidth\":0,\"ticks\":\"\"}},\"marker\":{\"colorbar\":{\"outlinewidth\":0,\"ticks\":\"\"}}}],\"scattermapbox\":[{\"type\":\"scattermapbox\",\"marker\":{\"colorbar\":{\"outlinewidth\":0,\"ticks\":\"\"}}}],\"scatterternary\":[{\"type\":\"scatterternary\",\"marker\":{\"colorbar\":{\"outlinewidth\":0,\"ticks\":\"\"}}}],\"scattercarpet\":[{\"type\":\"scattercarpet\",\"marker\":{\"colorbar\":{\"outlinewidth\":0,\"ticks\":\"\"}}}],\"carpet\":[{\"aaxis\":{\"endlinecolor\":\"#2a3f5f\",\"gridcolor\":\"white\",\"linecolor\":\"white\",\"minorgridcolor\":\"white\",\"startlinecolor\":\"#2a3f5f\"},\"baxis\":{\"endlinecolor\":\"#2a3f5f\",\"gridcolor\":\"white\",\"linecolor\":\"white\",\"minorgridcolor\":\"white\",\"startlinecolor\":\"#2a3f5f\"},\"type\":\"carpet\"}],\"table\":[{\"cells\":{\"fill\":{\"color\":\"#EBF0F8\"},\"line\":{\"color\":\"white\"}},\"header\":{\"fill\":{\"color\":\"#C8D4E3\"},\"line\":{\"color\":\"white\"}},\"type\":\"table\"}],\"barpolar\":[{\"marker\":{\"line\":{\"color\":\"#E5ECF6\",\"width\":0.5},\"pattern\":{\"fillmode\":\"overlay\",\"size\":10,\"solidity\":0.2}},\"type\":\"barpolar\"}],\"pie\":[{\"automargin\":true,\"type\":\"pie\"}]},\"layout\":{\"autotypenumbers\":\"strict\",\"colorway\":[\"#636efa\",\"#EF553B\",\"#00cc96\",\"#ab63fa\",\"#FFA15A\",\"#19d3f3\",\"#FF6692\",\"#B6E880\",\"#FF97FF\",\"#FECB52\"],\"font\":{\"color\":\"#2a3f5f\"},\"hovermode\":\"closest\",\"hoverlabel\":{\"align\":\"left\"},\"paper_bgcolor\":\"white\",\"plot_bgcolor\":\"#E5ECF6\",\"polar\":{\"bgcolor\":\"#E5ECF6\",\"angularaxis\":{\"gridcolor\":\"white\",\"linecolor\":\"white\",\"ticks\":\"\"},\"radialaxis\":{\"gridcolor\":\"white\",\"linecolor\":\"white\",\"ticks\":\"\"}},\"ternary\":{\"bgcolor\":\"#E5ECF6\",\"aaxis\":{\"gridcolor\":\"white\",\"linecolor\":\"white\",\"ticks\":\"\"},\"baxis\":{\"gridcolor\":\"white\",\"linecolor\":\"white\",\"ticks\":\"\"},\"caxis\":{\"gridcolor\":\"white\",\"linecolor\":\"white\",\"ticks\":\"\"}},\"coloraxis\":{\"colorbar\":{\"outlinewidth\":0,\"ticks\":\"\"}},\"colorscale\":{\"sequential\":[[0.0,\"#0d0887\"],[0.1111111111111111,\"#46039f\"],[0.2222222222222222,\"#7201a8\"],[0.3333333333333333,\"#9c179e\"],[0.4444444444444444,\"#bd3786\"],[0.5555555555555556,\"#d8576b\"],[0.6666666666666666,\"#ed7953\"],[0.7777777777777778,\"#fb9f3a\"],[0.8888888888888888,\"#fdca26\"],[1.0,\"#f0f921\"]],\"sequentialminus\":[[0.0,\"#0d0887\"],[0.1111111111111111,\"#46039f\"],[0.2222222222222222,\"#7201a8\"],[0.3333333333333333,\"#9c179e\"],[0.4444444444444444,\"#bd3786\"],[0.5555555555555556,\"#d8576b\"],[0.6666666666666666,\"#ed7953\"],[0.7777777777777778,\"#fb9f3a\"],[0.8888888888888888,\"#fdca26\"],[1.0,\"#f0f921\"]],\"diverging\":[[0,\"#8e0152\"],[0.1,\"#c51b7d\"],[0.2,\"#de77ae\"],[0.3,\"#f1b6da\"],[0.4,\"#fde0ef\"],[0.5,\"#f7f7f7\"],[0.6,\"#e6f5d0\"],[0.7,\"#b8e186\"],[0.8,\"#7fbc41\"],[0.9,\"#4d9221\"],[1,\"#276419\"]]},\"xaxis\":{\"gridcolor\":\"white\",\"linecolor\":\"white\",\"ticks\":\"\",\"title\":{\"standoff\":15},\"zerolinecolor\":\"white\",\"automargin\":true,\"zerolinewidth\":2},\"yaxis\":{\"gridcolor\":\"white\",\"linecolor\":\"white\",\"ticks\":\"\",\"title\":{\"standoff\":15},\"zerolinecolor\":\"white\",\"automargin\":true,\"zerolinewidth\":2},\"scene\":{\"xaxis\":{\"backgroundcolor\":\"#E5ECF6\",\"gridcolor\":\"white\",\"linecolor\":\"white\",\"showbackground\":true,\"ticks\":\"\",\"zerolinecolor\":\"white\",\"gridwidth\":2},\"yaxis\":{\"backgroundcolor\":\"#E5ECF6\",\"gridcolor\":\"white\",\"linecolor\":\"white\",\"showbackground\":true,\"ticks\":\"\",\"zerolinecolor\":\"white\",\"gridwidth\":2},\"zaxis\":{\"backgroundcolor\":\"#E5ECF6\",\"gridcolor\":\"white\",\"linecolor\":\"white\",\"showbackground\":true,\"ticks\":\"\",\"zerolinecolor\":\"white\",\"gridwidth\":2}},\"shapedefaults\":{\"line\":{\"color\":\"#2a3f5f\"}},\"annotationdefaults\":{\"arrowcolor\":\"#2a3f5f\",\"arrowhead\":0,\"arrowwidth\":1},\"geo\":{\"bgcolor\":\"white\",\"landcolor\":\"#E5ECF6\",\"subunitcolor\":\"white\",\"showland\":true,\"showlakes\":true,\"lakecolor\":\"white\"},\"title\":{\"x\":0.05},\"mapbox\":{\"style\":\"light\"}}},\"mapbox\":{\"domain\":{\"x\":[0.0,1.0],\"y\":[0.0,1.0]},\"center\":{\"lat\":-12.076292349951924,\"lon\":-77.00297062211536},\"zoom\":10,\"style\":\"carto-positron\"},\"legend\":{\"title\":{\"text\":\"dbscan_label\"},\"tracegroupgap\":0},\"margin\":{\"t\":0,\"r\":0,\"l\":0,\"b\":0}},                        {\"responsive\": true}                    ).then(function(){\n",
              "                            \n",
              "var gd = document.getElementById('b0aebe36-4486-48ca-9c9c-40f7a5ad8a94');\n",
              "var x = new MutationObserver(function (mutations, observer) {{\n",
              "        var display = window.getComputedStyle(gd).display;\n",
              "        if (!display || display === 'none') {{\n",
              "            console.log([gd, 'removed!']);\n",
              "            Plotly.purge(gd);\n",
              "            observer.disconnect();\n",
              "        }}\n",
              "}});\n",
              "\n",
              "// Listen for the removal of the full notebook cells\n",
              "var notebookContainer = gd.closest('#notebook-container');\n",
              "if (notebookContainer) {{\n",
              "    x.observe(notebookContainer, {childList: true});\n",
              "}}\n",
              "\n",
              "// Listen for the clearing of the current output cell\n",
              "var outputEl = gd.closest('.output');\n",
              "if (outputEl) {{\n",
              "    x.observe(outputEl, {childList: true});\n",
              "}}\n",
              "\n",
              "                        })                };                            </script>        </div>\n",
              "</body>\n",
              "</html>"
            ]
          },
          "metadata": {}
        }
      ]
    },
    {
      "cell_type": "code",
      "source": [
        "# Via K-means:\n",
        "kmeans_fig = px.scatter_mapbox(loyal_costumer_clusters, lat=\"lat\", lon=\"lon\", color='kmeans_label', zoom=10, color_discrete_map=color_discrete_map)\n",
        "kmeans_fig.update_layout(mapbox_style=\"carto-positron\")\n",
        "pin_recommendations = (px.scatter_mapbox(kmeans_centroids, lat='lat', lon='lon', color='label', size=[10]*kmeans_centroids.shape[0], size_max=10, color_discrete_map=color_discrete_map))\n",
        "kmeans_fig.add_traces(pin_recommendations.data)\n",
        "kmeans_fig.update_layout(margin={\"r\":0,\"t\":0,\"l\":0,\"b\":0})\n",
        "kmeans_fig.show()"
      ],
      "metadata": {
        "colab": {
          "base_uri": "https://localhost:8080/",
          "height": 542
        },
        "id": "Dyr4IJsQNLVG",
        "outputId": "902b4041-1c06-4f13-d8ac-65919b3eb0c8"
      },
      "execution_count": 43,
      "outputs": [
        {
          "output_type": "display_data",
          "data": {
            "text/html": [
              "<html>\n",
              "<head><meta charset=\"utf-8\" /></head>\n",
              "<body>\n",
              "    <div>            <script src=\"https://cdnjs.cloudflare.com/ajax/libs/mathjax/2.7.5/MathJax.js?config=TeX-AMS-MML_SVG\"></script><script type=\"text/javascript\">if (window.MathJax && window.MathJax.Hub && window.MathJax.Hub.Config) {window.MathJax.Hub.Config({SVG: {font: \"STIX-Web\"}});}</script>                <script type=\"text/javascript\">window.PlotlyConfig = {MathJaxConfig: 'local'};</script>\n",
              "        <script charset=\"utf-8\" src=\"https://cdn.plot.ly/plotly-2.35.2.min.js\"></script>                <div id=\"ac091346-720c-4477-b6e7-e76bd59f51a0\" class=\"plotly-graph-div\" style=\"height:525px; width:100%;\"></div>            <script type=\"text/javascript\">                                    window.PLOTLYENV=window.PLOTLYENV || {};                                    if (document.getElementById(\"ac091346-720c-4477-b6e7-e76bd59f51a0\")) {                    Plotly.newPlot(                        \"ac091346-720c-4477-b6e7-e76bd59f51a0\",                        [{\"hovertemplate\":\"kmeans_label=1\\u003cbr\\u003elat=%{lat}\\u003cbr\\u003elon=%{lon}\\u003cextra\\u003e\\u003c\\u002fextra\\u003e\",\"lat\":[-12.05081558,-12.05802155,-12.05766678,-12.05081558,-12.05055237,-12.05007553,-12.05072021,-12.04989243,-12.05035019,-12.0510788,-12.0578537,-12.05124283,-12.0506897,-12.05755234,-12.05075073,-12.05768585,-12.04521561,-12.05740738,-12.04993439,-12.04972839,-12.04946899,-12.04570389,-12.05105591,-12.05774307,-12.04997253,-12.05055237,-12.04850388,-12.05832291,-12.04895401,-12.05050659,-12.05072021,-12.04994202,-12.05049896,-12.05755234,-12.05154037,-12.05765915,-12.05043793,-12.05788803,-12.05755234,-12.05105591,-12.04825592,-12.05251694,-12.05755234,-12.05052948,-12.04949188,-12.05055237,-12.05072021,-12.05048752,-12.04980087,-12.04666519,-12.05550003,-12.05046082,-12.05007553],\"legendgroup\":\"1\",\"lon\":[-77.03356934,-77.03509521,-77.03567505,-77.03356934,-77.03326416,-77.0423584,-77.03344727,-77.05657959,-77.03335571,-77.03414917,-77.03518677,-77.03396606,-77.0335083,-77.03881836,-77.0335083,-77.03543091,-77.03167725,-77.03552246,-77.0423584,-77.02981567,-77.04244995,-77.03103638,-77.03326416,-77.03540039,-77.02911377,-77.03326416,-77.04248047,-77.03469849,-77.04238892,-77.03335571,-77.03344727,-77.05535889,-77.03338623,-77.03503418,-77.02810669,-77.03488159,-77.03329468,-77.03924561,-77.03503418,-77.03326416,-77.03427124,-77.03335571,-77.03503418,-77.0329895,-77.0322876,-77.03326416,-77.03344727,-77.03335571,-77.04229736,-77.02761841,-77.03799438,-77.0335083,-77.0423584],\"marker\":{\"color\":\"#6A76FC\"},\"mode\":\"markers\",\"name\":\"1\",\"showlegend\":true,\"subplot\":\"mapbox\",\"type\":\"scattermapbox\"},{\"hovertemplate\":\"kmeans_label=0\\u003cbr\\u003elat=%{lat}\\u003cbr\\u003elon=%{lon}\\u003cextra\\u003e\\u003c\\u002fextra\\u003e\",\"lat\":[-12.08850479,-12.08858109,-12.08873749,-12.09113693,-12.08859253,-12.08839035,-12.08854294,-12.08871078,-12.08864212,-12.08869934,-12.08845139,-12.08845139,-12.0886116,-12.08835983,-12.08885956,-12.08856201,-12.08844757,-12.08838272,-12.08865738,-12.08843994,-12.04478455,-12.04930115,-12.08888626,-12.08786392,-12.08842087,-12.08867645,-12.08860779,-12.08848572,-12.08853912,-12.08840179,-12.08843613,-12.08835602,-12.08876801,-12.08690643,-12.08854675,-12.08846664,-12.08851242,-12.08825302,-12.0886879,-12.08886719,-12.08850479,-12.08847809,-12.08863068,-12.10162354,-12.08869171,-12.08842087,-12.08863831,-12.08841705,-12.08862305,-12.08861923,-12.08849716,-12.08850479,-12.08861923,-12.08869171,-12.08851624,-12.08830643,-12.08960342,-12.08873749,-12.08846664,-12.08690643,-12.08867645,-12.08859253,-12.08960342,-12.08848572,-12.08869934,-12.07442474,-12.07442474,-12.08864212,-12.09181595,-12.08835983,-12.08862305,-12.07442474,-12.08864212,-12.08861923,-12.08876801,-12.08825302,-12.08843994,-12.08869171,-12.08786392,-12.08838272,-12.08849716,-12.08843613,-12.08850479,-12.08853912,-12.08838272,-12.08852386,-12.08842087,-12.07691193,-12.08888626,-12.04932022,-12.08876801,-12.08850479,-12.06937408,-12.08858109,-12.08851242,-12.08847809,-12.08672333,-12.08862305,-12.08861923,-12.04372787,-12.08885956,-12.08876801,-12.08869171],\"legendgroup\":\"0\",\"lon\":[-76.96948242,-76.96948242,-76.96932983,-76.95025635,-76.9694519,-76.9694519,-76.96948242,-76.96942139,-76.96948242,-76.96954346,-76.96954346,-76.96954346,-76.96957397,-76.96942139,-76.96939087,-76.96963501,-76.96948242,-76.96942139,-76.9694519,-76.96939087,-76.95153809,-76.95239258,-76.96917725,-76.96932983,-76.96942139,-76.96954346,-76.96948242,-76.9694519,-76.96981812,-76.96948242,-76.9694519,-76.96960449,-76.9694519,-76.97006226,-76.9694519,-76.96957397,-76.96954346,-76.96948242,-76.96929932,-76.9692688,-76.96942139,-76.96948242,-76.96936035,-76.97018433,-76.96954346,-76.9694519,-76.9692688,-76.9694519,-76.96951294,-76.96960449,-76.96948242,-76.96951294,-76.96929932,-76.9692688,-76.96942139,-76.96939087,-76.9692688,-76.96932983,-76.96957397,-76.97006226,-76.96954346,-76.9694519,-76.9692688,-76.9694519,-76.96954346,-76.95169067,-76.95169067,-76.96948242,-76.99136353,-76.96942139,-76.96951294,-76.95169067,-76.96948242,-76.96929932,-76.9694519,-76.96948242,-76.96939087,-76.96954346,-76.96932983,-76.96942139,-76.96948242,-76.9694519,-76.96951294,-76.96981812,-76.96942139,-76.96917725,-76.9694519,-76.92736816,-76.96917725,-76.95230103,-76.9694519,-76.96948242,-76.94992065,-76.96948242,-76.96954346,-76.96948242,-76.97027588,-76.96951294,-76.96960449,-76.953125,-76.96939087,-76.9694519,-76.9692688],\"marker\":{\"color\":\"#00FE35\"},\"mode\":\"markers\",\"name\":\"0\",\"showlegend\":true,\"subplot\":\"mapbox\",\"type\":\"scattermapbox\"},{\"hovertemplate\":\"kmeans_label=4\\u003cbr\\u003elat=%{lat}\\u003cbr\\u003elon=%{lon}\\u003cextra\\u003e\\u003c\\u002fextra\\u003e\",\"lat\":[-12.09716034,-12.10129929,-12.09727478,-12.10187531,-12.0949707,-12.09838104,-12.09164429,-12.08895111,-12.1075058,-12.09664536,-12.0890274,-12.09234619,-12.08415604,-12.09021378,-12.09946442,-12.1013031,-12.10139465,-12.09573746,-12.08234787,-12.09503174,-12.08380127,-12.09916306,-12.09284973,-12.08338547,-12.08955383,-12.09767532,-12.10067368,-12.09876633,-12.10417557,-12.08916092,-12.09512329],\"legendgroup\":\"4\",\"lon\":[-77.03717041,-77.03701782,-77.03768921,-77.03668213,-77.02871704,-77.02667236,-77.02410889,-77.00689697,-77.02978516,-77.03689575,-77.02288818,-77.0329895,-77.04907227,-77.02334595,-77.03677368,-77.03689575,-77.03686523,-77.02154541,-77.04782104,-77.03793335,-77.0484314,-77.03668213,-77.02444458,-77.05245972,-77.02264404,-77.03668213,-77.02767944,-77.03683472,-77.02279663,-77.02163696,-77.03778076],\"marker\":{\"color\":\"#0DF9FF\"},\"mode\":\"markers\",\"name\":\"4\",\"showlegend\":true,\"subplot\":\"mapbox\",\"type\":\"scattermapbox\"},{\"hovertemplate\":\"kmeans_label=3\\u003cbr\\u003elat=%{lat}\\u003cbr\\u003elon=%{lon}\\u003cextra\\u003e\\u003c\\u002fextra\\u003e\",\"lat\":[-12.12776566,-12.12779236,-12.14347458,-12.14347458,-12.11917114,-12.12783051,-12.12297821,-12.1424408,-12.14678192,-12.11942291],\"legendgroup\":\"3\",\"lon\":[-76.99487305,-76.99481201,-76.99603271,-76.99603271,-77.02902222,-76.99691772,-77.02886963,-76.99499512,-77.02246094,-77.02871704],\"marker\":{\"color\":\"#FE00CE\"},\"mode\":\"markers\",\"name\":\"3\",\"showlegend\":true,\"subplot\":\"mapbox\",\"type\":\"scattermapbox\"},{\"hovertemplate\":\"kmeans_label=2\\u003cbr\\u003elat=%{lat}\\u003cbr\\u003elon=%{lon}\\u003cextra\\u003e\\u003c\\u002fextra\\u003e\",\"lat\":[-12.02184677,-12.02199554,-11.98299408,-12.00590134,-11.98299408,-11.98299408,-11.98299408,-11.9822998,-11.98299408,-12.02405167,-11.98314667],\"legendgroup\":\"2\",\"lon\":[-77.10797119,-77.10818481,-77.07778931,-77.07998657,-77.07778931,-77.07778931,-77.07778931,-77.07766724,-77.07778931,-77.11203003,-77.07775879],\"marker\":{\"color\":\"#FED4C4\"},\"mode\":\"markers\",\"name\":\"2\",\"showlegend\":true,\"subplot\":\"mapbox\",\"type\":\"scattermapbox\"},{\"hovertemplate\":\"label=0\\u003cbr\\u003esize=%{marker.size}\\u003cbr\\u003elat=%{lat}\\u003cbr\\u003elon=%{lon}\\u003cextra\\u003e\\u003c\\u002fextra\\u003e\",\"lat\":[-12.086370042135922],\"legendgroup\":\"0\",\"lon\":[-76.96772454990291],\"marker\":{\"color\":\"#00FE35\",\"size\":[10],\"sizemode\":\"area\",\"sizeref\":0.1},\"mode\":\"markers\",\"name\":\"0\",\"showlegend\":true,\"subplot\":\"mapbox\",\"type\":\"scattermapbox\"},{\"hovertemplate\":\"label=1\\u003cbr\\u003esize=%{marker.size}\\u003cbr\\u003elat=%{lat}\\u003cbr\\u003elon=%{lon}\\u003cextra\\u003e\\u003c\\u002fextra\\u003e\",\"lat\":[-12.05200548018868],\"legendgroup\":\"1\",\"lon\":[-77.03568195886793],\"marker\":{\"color\":\"#6A76FC\",\"size\":[10],\"sizemode\":\"area\",\"sizeref\":0.1},\"mode\":\"markers\",\"name\":\"1\",\"showlegend\":true,\"subplot\":\"mapbox\",\"type\":\"scattermapbox\"},{\"hovertemplate\":\"label=2\\u003cbr\\u003esize=%{marker.size}\\u003cbr\\u003elat=%{lat}\\u003cbr\\u003elon=%{lon}\\u003cextra\\u003e\\u003c\\u002fextra\\u003e\",\"lat\":[-11.995837471818183],\"legendgroup\":\"2\",\"lon\":[-77.08659501636363],\"marker\":{\"color\":\"#FED4C4\",\"size\":[10],\"sizemode\":\"area\",\"sizeref\":0.1},\"mode\":\"markers\",\"name\":\"2\",\"showlegend\":true,\"subplot\":\"mapbox\",\"type\":\"scattermapbox\"},{\"hovertemplate\":\"label=3\\u003cbr\\u003esize=%{marker.size}\\u003cbr\\u003elat=%{lat}\\u003cbr\\u003elon=%{lon}\\u003cextra\\u003e\\u003c\\u002fextra\\u003e\",\"lat\":[-12.132113267000001],\"legendgroup\":\"3\",\"lon\":[-77.00827331500001],\"marker\":{\"color\":\"#FE00CE\",\"size\":[10],\"sizemode\":\"area\",\"sizeref\":0.1},\"mode\":\"markers\",\"name\":\"3\",\"showlegend\":true,\"subplot\":\"mapbox\",\"type\":\"scattermapbox\"},{\"hovertemplate\":\"label=4\\u003cbr\\u003esize=%{marker.size}\\u003cbr\\u003elat=%{lat}\\u003cbr\\u003elon=%{lon}\\u003cextra\\u003e\\u003c\\u002fextra\\u003e\",\"lat\":[-12.094872875483873],\"legendgroup\":\"4\",\"lon\":[-77.03276898741936],\"marker\":{\"color\":\"#0DF9FF\",\"size\":[10],\"sizemode\":\"area\",\"sizeref\":0.1},\"mode\":\"markers\",\"name\":\"4\",\"showlegend\":true,\"subplot\":\"mapbox\",\"type\":\"scattermapbox\"}],                        {\"template\":{\"data\":{\"histogram2dcontour\":[{\"type\":\"histogram2dcontour\",\"colorbar\":{\"outlinewidth\":0,\"ticks\":\"\"},\"colorscale\":[[0.0,\"#0d0887\"],[0.1111111111111111,\"#46039f\"],[0.2222222222222222,\"#7201a8\"],[0.3333333333333333,\"#9c179e\"],[0.4444444444444444,\"#bd3786\"],[0.5555555555555556,\"#d8576b\"],[0.6666666666666666,\"#ed7953\"],[0.7777777777777778,\"#fb9f3a\"],[0.8888888888888888,\"#fdca26\"],[1.0,\"#f0f921\"]]}],\"choropleth\":[{\"type\":\"choropleth\",\"colorbar\":{\"outlinewidth\":0,\"ticks\":\"\"}}],\"histogram2d\":[{\"type\":\"histogram2d\",\"colorbar\":{\"outlinewidth\":0,\"ticks\":\"\"},\"colorscale\":[[0.0,\"#0d0887\"],[0.1111111111111111,\"#46039f\"],[0.2222222222222222,\"#7201a8\"],[0.3333333333333333,\"#9c179e\"],[0.4444444444444444,\"#bd3786\"],[0.5555555555555556,\"#d8576b\"],[0.6666666666666666,\"#ed7953\"],[0.7777777777777778,\"#fb9f3a\"],[0.8888888888888888,\"#fdca26\"],[1.0,\"#f0f921\"]]}],\"heatmap\":[{\"type\":\"heatmap\",\"colorbar\":{\"outlinewidth\":0,\"ticks\":\"\"},\"colorscale\":[[0.0,\"#0d0887\"],[0.1111111111111111,\"#46039f\"],[0.2222222222222222,\"#7201a8\"],[0.3333333333333333,\"#9c179e\"],[0.4444444444444444,\"#bd3786\"],[0.5555555555555556,\"#d8576b\"],[0.6666666666666666,\"#ed7953\"],[0.7777777777777778,\"#fb9f3a\"],[0.8888888888888888,\"#fdca26\"],[1.0,\"#f0f921\"]]}],\"heatmapgl\":[{\"type\":\"heatmapgl\",\"colorbar\":{\"outlinewidth\":0,\"ticks\":\"\"},\"colorscale\":[[0.0,\"#0d0887\"],[0.1111111111111111,\"#46039f\"],[0.2222222222222222,\"#7201a8\"],[0.3333333333333333,\"#9c179e\"],[0.4444444444444444,\"#bd3786\"],[0.5555555555555556,\"#d8576b\"],[0.6666666666666666,\"#ed7953\"],[0.7777777777777778,\"#fb9f3a\"],[0.8888888888888888,\"#fdca26\"],[1.0,\"#f0f921\"]]}],\"contourcarpet\":[{\"type\":\"contourcarpet\",\"colorbar\":{\"outlinewidth\":0,\"ticks\":\"\"}}],\"contour\":[{\"type\":\"contour\",\"colorbar\":{\"outlinewidth\":0,\"ticks\":\"\"},\"colorscale\":[[0.0,\"#0d0887\"],[0.1111111111111111,\"#46039f\"],[0.2222222222222222,\"#7201a8\"],[0.3333333333333333,\"#9c179e\"],[0.4444444444444444,\"#bd3786\"],[0.5555555555555556,\"#d8576b\"],[0.6666666666666666,\"#ed7953\"],[0.7777777777777778,\"#fb9f3a\"],[0.8888888888888888,\"#fdca26\"],[1.0,\"#f0f921\"]]}],\"surface\":[{\"type\":\"surface\",\"colorbar\":{\"outlinewidth\":0,\"ticks\":\"\"},\"colorscale\":[[0.0,\"#0d0887\"],[0.1111111111111111,\"#46039f\"],[0.2222222222222222,\"#7201a8\"],[0.3333333333333333,\"#9c179e\"],[0.4444444444444444,\"#bd3786\"],[0.5555555555555556,\"#d8576b\"],[0.6666666666666666,\"#ed7953\"],[0.7777777777777778,\"#fb9f3a\"],[0.8888888888888888,\"#fdca26\"],[1.0,\"#f0f921\"]]}],\"mesh3d\":[{\"type\":\"mesh3d\",\"colorbar\":{\"outlinewidth\":0,\"ticks\":\"\"}}],\"scatter\":[{\"fillpattern\":{\"fillmode\":\"overlay\",\"size\":10,\"solidity\":0.2},\"type\":\"scatter\"}],\"parcoords\":[{\"type\":\"parcoords\",\"line\":{\"colorbar\":{\"outlinewidth\":0,\"ticks\":\"\"}}}],\"scatterpolargl\":[{\"type\":\"scatterpolargl\",\"marker\":{\"colorbar\":{\"outlinewidth\":0,\"ticks\":\"\"}}}],\"bar\":[{\"error_x\":{\"color\":\"#2a3f5f\"},\"error_y\":{\"color\":\"#2a3f5f\"},\"marker\":{\"line\":{\"color\":\"#E5ECF6\",\"width\":0.5},\"pattern\":{\"fillmode\":\"overlay\",\"size\":10,\"solidity\":0.2}},\"type\":\"bar\"}],\"scattergeo\":[{\"type\":\"scattergeo\",\"marker\":{\"colorbar\":{\"outlinewidth\":0,\"ticks\":\"\"}}}],\"scatterpolar\":[{\"type\":\"scatterpolar\",\"marker\":{\"colorbar\":{\"outlinewidth\":0,\"ticks\":\"\"}}}],\"histogram\":[{\"marker\":{\"pattern\":{\"fillmode\":\"overlay\",\"size\":10,\"solidity\":0.2}},\"type\":\"histogram\"}],\"scattergl\":[{\"type\":\"scattergl\",\"marker\":{\"colorbar\":{\"outlinewidth\":0,\"ticks\":\"\"}}}],\"scatter3d\":[{\"type\":\"scatter3d\",\"line\":{\"colorbar\":{\"outlinewidth\":0,\"ticks\":\"\"}},\"marker\":{\"colorbar\":{\"outlinewidth\":0,\"ticks\":\"\"}}}],\"scattermapbox\":[{\"type\":\"scattermapbox\",\"marker\":{\"colorbar\":{\"outlinewidth\":0,\"ticks\":\"\"}}}],\"scatterternary\":[{\"type\":\"scatterternary\",\"marker\":{\"colorbar\":{\"outlinewidth\":0,\"ticks\":\"\"}}}],\"scattercarpet\":[{\"type\":\"scattercarpet\",\"marker\":{\"colorbar\":{\"outlinewidth\":0,\"ticks\":\"\"}}}],\"carpet\":[{\"aaxis\":{\"endlinecolor\":\"#2a3f5f\",\"gridcolor\":\"white\",\"linecolor\":\"white\",\"minorgridcolor\":\"white\",\"startlinecolor\":\"#2a3f5f\"},\"baxis\":{\"endlinecolor\":\"#2a3f5f\",\"gridcolor\":\"white\",\"linecolor\":\"white\",\"minorgridcolor\":\"white\",\"startlinecolor\":\"#2a3f5f\"},\"type\":\"carpet\"}],\"table\":[{\"cells\":{\"fill\":{\"color\":\"#EBF0F8\"},\"line\":{\"color\":\"white\"}},\"header\":{\"fill\":{\"color\":\"#C8D4E3\"},\"line\":{\"color\":\"white\"}},\"type\":\"table\"}],\"barpolar\":[{\"marker\":{\"line\":{\"color\":\"#E5ECF6\",\"width\":0.5},\"pattern\":{\"fillmode\":\"overlay\",\"size\":10,\"solidity\":0.2}},\"type\":\"barpolar\"}],\"pie\":[{\"automargin\":true,\"type\":\"pie\"}]},\"layout\":{\"autotypenumbers\":\"strict\",\"colorway\":[\"#636efa\",\"#EF553B\",\"#00cc96\",\"#ab63fa\",\"#FFA15A\",\"#19d3f3\",\"#FF6692\",\"#B6E880\",\"#FF97FF\",\"#FECB52\"],\"font\":{\"color\":\"#2a3f5f\"},\"hovermode\":\"closest\",\"hoverlabel\":{\"align\":\"left\"},\"paper_bgcolor\":\"white\",\"plot_bgcolor\":\"#E5ECF6\",\"polar\":{\"bgcolor\":\"#E5ECF6\",\"angularaxis\":{\"gridcolor\":\"white\",\"linecolor\":\"white\",\"ticks\":\"\"},\"radialaxis\":{\"gridcolor\":\"white\",\"linecolor\":\"white\",\"ticks\":\"\"}},\"ternary\":{\"bgcolor\":\"#E5ECF6\",\"aaxis\":{\"gridcolor\":\"white\",\"linecolor\":\"white\",\"ticks\":\"\"},\"baxis\":{\"gridcolor\":\"white\",\"linecolor\":\"white\",\"ticks\":\"\"},\"caxis\":{\"gridcolor\":\"white\",\"linecolor\":\"white\",\"ticks\":\"\"}},\"coloraxis\":{\"colorbar\":{\"outlinewidth\":0,\"ticks\":\"\"}},\"colorscale\":{\"sequential\":[[0.0,\"#0d0887\"],[0.1111111111111111,\"#46039f\"],[0.2222222222222222,\"#7201a8\"],[0.3333333333333333,\"#9c179e\"],[0.4444444444444444,\"#bd3786\"],[0.5555555555555556,\"#d8576b\"],[0.6666666666666666,\"#ed7953\"],[0.7777777777777778,\"#fb9f3a\"],[0.8888888888888888,\"#fdca26\"],[1.0,\"#f0f921\"]],\"sequentialminus\":[[0.0,\"#0d0887\"],[0.1111111111111111,\"#46039f\"],[0.2222222222222222,\"#7201a8\"],[0.3333333333333333,\"#9c179e\"],[0.4444444444444444,\"#bd3786\"],[0.5555555555555556,\"#d8576b\"],[0.6666666666666666,\"#ed7953\"],[0.7777777777777778,\"#fb9f3a\"],[0.8888888888888888,\"#fdca26\"],[1.0,\"#f0f921\"]],\"diverging\":[[0,\"#8e0152\"],[0.1,\"#c51b7d\"],[0.2,\"#de77ae\"],[0.3,\"#f1b6da\"],[0.4,\"#fde0ef\"],[0.5,\"#f7f7f7\"],[0.6,\"#e6f5d0\"],[0.7,\"#b8e186\"],[0.8,\"#7fbc41\"],[0.9,\"#4d9221\"],[1,\"#276419\"]]},\"xaxis\":{\"gridcolor\":\"white\",\"linecolor\":\"white\",\"ticks\":\"\",\"title\":{\"standoff\":15},\"zerolinecolor\":\"white\",\"automargin\":true,\"zerolinewidth\":2},\"yaxis\":{\"gridcolor\":\"white\",\"linecolor\":\"white\",\"ticks\":\"\",\"title\":{\"standoff\":15},\"zerolinecolor\":\"white\",\"automargin\":true,\"zerolinewidth\":2},\"scene\":{\"xaxis\":{\"backgroundcolor\":\"#E5ECF6\",\"gridcolor\":\"white\",\"linecolor\":\"white\",\"showbackground\":true,\"ticks\":\"\",\"zerolinecolor\":\"white\",\"gridwidth\":2},\"yaxis\":{\"backgroundcolor\":\"#E5ECF6\",\"gridcolor\":\"white\",\"linecolor\":\"white\",\"showbackground\":true,\"ticks\":\"\",\"zerolinecolor\":\"white\",\"gridwidth\":2},\"zaxis\":{\"backgroundcolor\":\"#E5ECF6\",\"gridcolor\":\"white\",\"linecolor\":\"white\",\"showbackground\":true,\"ticks\":\"\",\"zerolinecolor\":\"white\",\"gridwidth\":2}},\"shapedefaults\":{\"line\":{\"color\":\"#2a3f5f\"}},\"annotationdefaults\":{\"arrowcolor\":\"#2a3f5f\",\"arrowhead\":0,\"arrowwidth\":1},\"geo\":{\"bgcolor\":\"white\",\"landcolor\":\"#E5ECF6\",\"subunitcolor\":\"white\",\"showland\":true,\"showlakes\":true,\"lakecolor\":\"white\"},\"title\":{\"x\":0.05},\"mapbox\":{\"style\":\"light\"}}},\"mapbox\":{\"domain\":{\"x\":[0.0,1.0],\"y\":[0.0,1.0]},\"center\":{\"lat\":-12.076292349951924,\"lon\":-77.00297062211536},\"zoom\":10,\"style\":\"carto-positron\"},\"legend\":{\"title\":{\"text\":\"kmeans_label\"},\"tracegroupgap\":0},\"margin\":{\"t\":0,\"r\":0,\"l\":0,\"b\":0}},                        {\"responsive\": true}                    ).then(function(){\n",
              "                            \n",
              "var gd = document.getElementById('ac091346-720c-4477-b6e7-e76bd59f51a0');\n",
              "var x = new MutationObserver(function (mutations, observer) {{\n",
              "        var display = window.getComputedStyle(gd).display;\n",
              "        if (!display || display === 'none') {{\n",
              "            console.log([gd, 'removed!']);\n",
              "            Plotly.purge(gd);\n",
              "            observer.disconnect();\n",
              "        }}\n",
              "}});\n",
              "\n",
              "// Listen for the removal of the full notebook cells\n",
              "var notebookContainer = gd.closest('#notebook-container');\n",
              "if (notebookContainer) {{\n",
              "    x.observe(notebookContainer, {childList: true});\n",
              "}}\n",
              "\n",
              "// Listen for the clearing of the current output cell\n",
              "var outputEl = gd.closest('.output');\n",
              "if (outputEl) {{\n",
              "    x.observe(outputEl, {childList: true});\n",
              "}}\n",
              "\n",
              "                        })                };                            </script>        </div>\n",
              "</body>\n",
              "</html>"
            ]
          },
          "metadata": {}
        }
      ]
    }
  ]
}